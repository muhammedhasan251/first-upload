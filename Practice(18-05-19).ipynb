{
 "cells": [
  {
   "cell_type": "markdown",
   "metadata": {},
   "source": [
    "# OPERATORS"
   ]
  },
  {
   "cell_type": "code",
   "execution_count": 1,
   "metadata": {},
   "outputs": [
    {
     "data": {
      "text/plain": [
       "36"
      ]
     },
     "execution_count": 1,
     "metadata": {},
     "output_type": "execute_result"
    }
   ],
   "source": [
    "33+3 #addition"
   ]
  },
  {
   "cell_type": "raw",
   "metadata": {},
   "source": [
    "5-2 "
   ]
  },
  {
   "cell_type": "code",
   "execution_count": 2,
   "metadata": {},
   "outputs": [
    {
     "data": {
      "text/plain": [
       "3"
      ]
     },
     "execution_count": 2,
     "metadata": {},
     "output_type": "execute_result"
    }
   ],
   "source": [
    "5-2 #subtraction"
   ]
  },
  {
   "cell_type": "code",
   "execution_count": 1,
   "metadata": {},
   "outputs": [
    {
     "data": {
      "text/plain": [
       "8"
      ]
     },
     "execution_count": 1,
     "metadata": {},
     "output_type": "execute_result"
    }
   ],
   "source": [
    "2**3#power"
   ]
  },
  {
   "cell_type": "code",
   "execution_count": 5,
   "metadata": {},
   "outputs": [
    {
     "data": {
      "text/plain": [
       "23"
      ]
     },
     "execution_count": 5,
     "metadata": {},
     "output_type": "execute_result"
    }
   ],
   "source": [
    "2*(1+1)**3+7"
   ]
  },
  {
   "cell_type": "code",
   "execution_count": 3,
   "metadata": {},
   "outputs": [
    {
     "data": {
      "text/plain": [
       "5.0"
      ]
     },
     "execution_count": 3,
     "metadata": {},
     "output_type": "execute_result"
    }
   ],
   "source": [
    "45/9 # (/) means return float by defualt"
   ]
  },
  {
   "cell_type": "code",
   "execution_count": 7,
   "metadata": {},
   "outputs": [
    {
     "data": {
      "text/plain": [
       "4.0"
      ]
     },
     "execution_count": 7,
     "metadata": {},
     "output_type": "execute_result"
    }
   ],
   "source": [
    "2+3/2+0.5"
   ]
  },
  {
   "cell_type": "code",
   "execution_count": 8,
   "metadata": {},
   "outputs": [
    {
     "data": {
      "text/plain": [
       "2"
      ]
     },
     "execution_count": 8,
     "metadata": {},
     "output_type": "execute_result"
    }
   ],
   "source": [
    "5//2 #return integer"
   ]
  },
  {
   "cell_type": "markdown",
   "metadata": {},
   "source": [
    "# UNFAMILIAR OPERATORS "
   ]
  },
  {
   "cell_type": "code",
   "execution_count": 9,
   "metadata": {},
   "outputs": [
    {
     "data": {
      "text/plain": [
       "1"
      ]
     },
     "execution_count": 9,
     "metadata": {},
     "output_type": "execute_result"
    }
   ],
   "source": [
    "4%3 # (%) means modulo (return reminder)"
   ]
  },
  {
   "cell_type": "code",
   "execution_count": 10,
   "metadata": {},
   "outputs": [
    {
     "data": {
      "text/plain": [
       "1237"
      ]
     },
     "execution_count": 10,
     "metadata": {},
     "output_type": "execute_result"
    }
   ],
   "source": [
    "x=1234\n",
    "x+3"
   ]
  },
  {
   "cell_type": "code",
   "execution_count": 11,
   "metadata": {},
   "outputs": [
    {
     "data": {
      "text/plain": [
       "1234"
      ]
     },
     "execution_count": 11,
     "metadata": {},
     "output_type": "execute_result"
    }
   ],
   "source": [
    "x"
   ]
  },
  {
   "cell_type": "code",
   "execution_count": 12,
   "metadata": {},
   "outputs": [],
   "source": [
    "x=1234\n",
    "x=x+3"
   ]
  },
  {
   "cell_type": "code",
   "execution_count": 13,
   "metadata": {},
   "outputs": [
    {
     "data": {
      "text/plain": [
       "1237"
      ]
     },
     "execution_count": 13,
     "metadata": {},
     "output_type": "execute_result"
    }
   ],
   "source": [
    "x"
   ]
  },
  {
   "cell_type": "code",
   "execution_count": 14,
   "metadata": {},
   "outputs": [],
   "source": [
    "x+=3 # addition through compound assignment"
   ]
  },
  {
   "cell_type": "code",
   "execution_count": 15,
   "metadata": {},
   "outputs": [
    {
     "data": {
      "text/plain": [
       "1240"
      ]
     },
     "execution_count": 15,
     "metadata": {},
     "output_type": "execute_result"
    }
   ],
   "source": [
    "x"
   ]
  },
  {
   "cell_type": "code",
   "execution_count": 16,
   "metadata": {},
   "outputs": [],
   "source": [
    "x-=3  # subtraction through compound assignment"
   ]
  },
  {
   "cell_type": "code",
   "execution_count": 17,
   "metadata": {},
   "outputs": [
    {
     "data": {
      "text/plain": [
       "1237"
      ]
     },
     "execution_count": 17,
     "metadata": {},
     "output_type": "execute_result"
    }
   ],
   "source": [
    "x"
   ]
  },
  {
   "cell_type": "code",
   "execution_count": 18,
   "metadata": {},
   "outputs": [],
   "source": [
    "x*=3  # mulltiplication through compound assignment"
   ]
  },
  {
   "cell_type": "code",
   "execution_count": 19,
   "metadata": {},
   "outputs": [
    {
     "data": {
      "text/plain": [
       "3711"
      ]
     },
     "execution_count": 19,
     "metadata": {},
     "output_type": "execute_result"
    }
   ],
   "source": [
    "x"
   ]
  },
  {
   "cell_type": "markdown",
   "metadata": {},
   "source": [
    "# if statement"
   ]
  },
  {
   "cell_type": "code",
   "execution_count": 20,
   "metadata": {},
   "outputs": [
    {
     "data": {
      "text/plain": [
       "False"
      ]
     },
     "execution_count": 20,
     "metadata": {},
     "output_type": "execute_result"
    }
   ],
   "source": [
    "#checking condition\n",
    "a=2\n",
    "b=3\n",
    "a==b"
   ]
  },
  {
   "cell_type": "code",
   "execution_count": 21,
   "metadata": {},
   "outputs": [
    {
     "data": {
      "text/plain": [
       "False"
      ]
     },
     "execution_count": 21,
     "metadata": {},
     "output_type": "execute_result"
    }
   ],
   "source": [
    "a>b"
   ]
  },
  {
   "cell_type": "code",
   "execution_count": 22,
   "metadata": {},
   "outputs": [
    {
     "data": {
      "text/plain": [
       "True"
      ]
     },
     "execution_count": 22,
     "metadata": {},
     "output_type": "execute_result"
    }
   ],
   "source": [
    "a<b"
   ]
  },
  {
   "cell_type": "code",
   "execution_count": 23,
   "metadata": {},
   "outputs": [
    {
     "data": {
      "text/plain": [
       "False"
      ]
     },
     "execution_count": 23,
     "metadata": {},
     "output_type": "execute_result"
    }
   ],
   "source": [
    "a>=b"
   ]
  },
  {
   "cell_type": "code",
   "execution_count": 24,
   "metadata": {},
   "outputs": [
    {
     "data": {
      "text/plain": [
       "True"
      ]
     },
     "execution_count": 24,
     "metadata": {},
     "output_type": "execute_result"
    }
   ],
   "source": [
    "a<=b"
   ]
  },
  {
   "cell_type": "code",
   "execution_count": 25,
   "metadata": {},
   "outputs": [
    {
     "data": {
      "text/plain": [
       "True"
      ]
     },
     "execution_count": 25,
     "metadata": {},
     "output_type": "execute_result"
    }
   ],
   "source": [
    "a!=b"
   ]
  },
  {
   "cell_type": "code",
   "execution_count": 26,
   "metadata": {},
   "outputs": [
    {
     "name": "stdout",
     "output_type": "stream",
     "text": [
      "5 is greater than 1\n",
      "5 is greater than 1\n"
     ]
    }
   ],
   "source": [
    "a=5\n",
    "b=1\n",
    "if a>b: #indentation\n",
    "    print (f\"{a} is greater than {b}\")\n",
    "    print (f\"{a} is greater than {b}\")     "
   ]
  },
  {
   "cell_type": "code",
   "execution_count": 27,
   "metadata": {},
   "outputs": [],
   "source": [
    "a=5\n",
    "b=1\n",
    "if a<b: #indentation\n",
    "    print (f\"{a} is greater than {b}\")\n",
    "    print (f\"{a} is greater than {b}\") \n"
   ]
  },
  {
   "cell_type": "code",
   "execution_count": 28,
   "metadata": {},
   "outputs": [
    {
     "name": "stdout",
     "output_type": "stream",
     "text": [
      "entter first number5\n",
      "enter second number5\n",
      "5 is less than 5\n"
     ]
    }
   ],
   "source": [
    "a= input (\"entter first number\")\n",
    "b= input (\"enter second number\")\n",
    "if a>b:\n",
    "    print (f\"{a} is greater than {b}\")\n",
    "else:\n",
    "    print (f\"{a} is less than {b}\")"
   ]
  },
  {
   "cell_type": "code",
   "execution_count": 29,
   "metadata": {},
   "outputs": [
    {
     "name": "stdout",
     "output_type": "stream",
     "text": [
      "entter first number5\n",
      "enter second number1\n",
      "5 is greater than 1\n"
     ]
    }
   ],
   "source": [
    "a= input (\"entter first number\")\n",
    "b= input (\"enter second number\")\n",
    "if a>b:\n",
    "    print (f\"{a} is greater than {b}\")\n",
    "else:\n",
    "    print (f\"{a} is less than {b}\")"
   ]
  },
  {
   "cell_type": "markdown",
   "metadata": {},
   "source": [
    "# NESTED if  \n"
   ]
  },
  {
   "cell_type": "code",
   "execution_count": 6,
   "metadata": {},
   "outputs": [
    {
     "name": "stdout",
     "output_type": "stream",
     "text": [
      "enter age 21\n",
      "your age is valid \n",
      "enter ticket status yes\n",
      "ok\n",
      "you are allowed\n"
     ]
    }
   ],
   "source": [
    "age=int (input(\"enter age \"))\n",
    "if age>=18:\n",
    "    print (\"your age is valid \")\n",
    "    ticket=input(\"enter ticket status \").lower() #convert capital letters to small\n",
    "    if ticket=='yes':\n",
    "        print (\"ok\")\n",
    "        print (\"you are allowed\")\n",
    "    else:\n",
    "        print (\"please buy ticket\")\n",
    "else:\n",
    "    print (\"you are not allowed\")\n",
    "    \n",
    "              "
   ]
  },
  {
   "cell_type": "code",
   "execution_count": 10,
   "metadata": {},
   "outputs": [
    {
     "name": "stdout",
     "output_type": "stream",
     "text": [
      "enter age 17\n",
      "you are  not allowed\n"
     ]
    }
   ],
   "source": [
    "age=int (input(\"enter age \"))\n",
    "if age>=18:\n",
    "    print (\"your age is valid \")\n",
    "    ticket= input(\"enter ticket status \").lower() #convert capital letters to small\n",
    "    if ticket=='yes':\n",
    "        print (\"ok\")\n",
    "        print (\"you are allowed\")\n",
    "    else:\n",
    "        print (\"please buy ticket then you will allow\")\n",
    "else:\n",
    "    print (\"you are  not allowed\")\n",
    "    "
   ]
  },
  {
   "cell_type": "markdown",
   "metadata": {},
   "source": []
  },
  {
   "cell_type": "code",
   "execution_count": 34,
   "metadata": {},
   "outputs": [
    {
     "name": "stdout",
     "output_type": "stream",
     "text": [
      "do you have an nic yes\n",
      "ok \n",
      "enter your house no44\n",
      "your name is not in the voyter list\n"
     ]
    }
   ],
   "source": [
    "nic=input(\"do you have an nic \")\n",
    "if nic=='yes' :\n",
    "    print (\"ok \")\n",
    "    voter_list= int (input(\"enter your house no\")) \n",
    "    if voter_list >= 50:\n",
    "        print (\"your name is in the voter list \")\n",
    "        print (\"you are allowed to cast vote\")\n",
    "    else:\n",
    "        print (\"your name is not in the voyter list\")\n",
    "else:\n",
    "    print (\"you are  not allowed to cast vote\")\n",
    "    "
   ]
  },
  {
   "cell_type": "code",
   "execution_count": 36,
   "metadata": {},
   "outputs": [
    {
     "name": "stdout",
     "output_type": "stream",
     "text": [
      "enter your age 21\n",
      "enter your  ticket statusyes\n",
      "you are allowed\n"
     ]
    }
   ],
   "source": [
    "age= int (input(\"enter your age \"))\n",
    "ticket= input (\"enter your  ticket status\").lower()\n",
    "if age>=18 and ticket=='yes':\n",
    "    print (\"you are allowed\")\n",
    "else:\n",
    "    print(\"you are not allowed\")"
   ]
  },
  {
   "cell_type": "code",
   "execution_count": 37,
   "metadata": {},
   "outputs": [
    {
     "name": "stdout",
     "output_type": "stream",
     "text": [
      "enter your age 17\n",
      "enter your  ticket statusyes\n",
      "you are not allowed\n"
     ]
    }
   ],
   "source": [
    "age= int (input(\"enter your age \"))\n",
    "ticket= input (\"enter your  ticket status\").lower()\n",
    "if age>=18 and ticket=='yes':\n",
    "    print (\"you are allowed\")\n",
    "else:\n",
    "    print(\"you are not allowed\")"
   ]
  },
  {
   "cell_type": "code",
   "execution_count": 39,
   "metadata": {},
   "outputs": [
    {
     "name": "stdout",
     "output_type": "stream",
     "text": [
      "do you have an nic: yes\n",
      "enter your house no: 55\n",
      "you  are allowed\n"
     ]
    }
   ],
   "source": [
    "nic= input(\"do you have an nic: \")\n",
    "voter_list= int (input(\"enter your house no: \"))\n",
    "if nic=='yes' and voter_list>=50:\n",
    "    print(\"you  are allowed\")\n",
    "else:\n",
    "    print(\"you are not alllowed\")\n"
   ]
  },
  {
   "cell_type": "code",
   "execution_count": 40,
   "metadata": {},
   "outputs": [
    {
     "name": "stdout",
     "output_type": "stream",
     "text": [
      "enter first number: 5\n",
      "enter second  numberr4\n",
      "5 is  not equal  to 4\n"
     ]
    }
   ],
   "source": [
    "a=int (input(\"enter first number: \"))\n",
    "b=int (input(\"enter second  numberr\"))\n",
    "if a==b:\n",
    "    print(f\"{a} is equal  to {b}\")\n",
    "if a!=b:\n",
    "    print(f\"{a} is  not equal  to {b}\")"
   ]
  },
  {
   "cell_type": "code",
   "execution_count": 43,
   "metadata": {},
   "outputs": [
    {
     "name": "stdout",
     "output_type": "stream",
     "text": [
      "enter first number: 5\n",
      "enter second  numberr4\n",
      "5 is  greater than 4\n"
     ]
    }
   ],
   "source": [
    "a=int (input(\"enter first number: \"))\n",
    "b=int (input(\"enter second  numberr\"))\n",
    "if a==b:\n",
    "    print(f\"{a} is equal  to {b}\")\n",
    "elif a>b:\n",
    "    print(f\"{a} is  greater than {b}\")\n",
    "elif a<b:\n",
    "    print(f\"{a} is less than {b}\")\n",
    "else:\n",
    "    print(\"check it again\")\n"
   ]
  },
  {
   "cell_type": "code",
   "execution_count": 45,
   "metadata": {},
   "outputs": [
    {
     "name": "stdout",
     "output_type": "stream",
     "text": [
      "enter first number: 5\n",
      "enter second  numberr5\n",
      "check it again\n"
     ]
    }
   ],
   "source": [
    "a=int (input(\"enter first number: \"))\n",
    "b=int (input(\"enter second  number: \"))\n",
    "if a>b:\n",
    "    print(f\"{a} is  greater than {b}\")\n",
    "elif a<b:\n",
    "    print(f\"{a} is less than {b}\")\n",
    "else:\n",
    "    print(\"check it again\")\n"
   ]
  },
  {
   "cell_type": "code",
   "execution_count": 46,
   "metadata": {},
   "outputs": [
    {
     "name": "stdout",
     "output_type": "stream",
     "text": [
      "enter first number: 5\n",
      "enter second  number: 5\n",
      "all is well\n"
     ]
    }
   ],
   "source": [
    "a=int (input(\"enter first number: \"))\n",
    "b=int (input(\"enter second  number: \"))\n",
    "if a==b or a>b:\n",
    "    print(\"all is well\")\n",
    "else:\n",
    "    print (\"try again\")"
   ]
  },
  {
   "cell_type": "code",
   "execution_count": 47,
   "metadata": {},
   "outputs": [
    {
     "name": "stdout",
     "output_type": "stream",
     "text": [
      "do you have  documentsyes\n",
      "do you some cash: yes\n",
      "go\n"
     ]
    }
   ],
   "source": [
    "a=input (\"do you have  documents\")\n",
    "b=input (\"do you some cash: \")\n",
    "if a=='yes' or b=='yes':\n",
    "    print (\"go\")\n",
    "else:\n",
    "    print (\"wait\")"
   ]
  },
  {
   "cell_type": "markdown",
   "metadata": {},
   "source": [
    "# COMMENTS\n"
   ]
  },
  {
   "cell_type": "code",
   "execution_count": 51,
   "metadata": {},
   "outputs": [],
   "source": [
    "# a=input (\"do you have  documents\")# STARTING (single)\n",
    "# b=input (\"do you some cash: \")\n",
    "# if a=='yes' or b=='yes':\n",
    "#     print (\"go\")\n",
    "# else:\n",
    "#     print (\"wait\")'  # control forward slash to comment individual line of whole program"
   ]
  },
  {
   "cell_type": "code",
   "execution_count": 1,
   "metadata": {},
   "outputs": [
    {
     "ename": "SyntaxError",
     "evalue": "invalid syntax (<ipython-input-1-73494ff16a4c>, line 1)",
     "output_type": "error",
     "traceback": [
      "\u001b[1;36m  File \u001b[1;32m\"<ipython-input-1-73494ff16a4c>\"\u001b[1;36m, line \u001b[1;32m1\u001b[0m\n\u001b[1;33m    ''''''a=input (\"do you have  documents\")\u001b[0m\n\u001b[1;37m          ^\u001b[0m\n\u001b[1;31mSyntaxError\u001b[0m\u001b[1;31m:\u001b[0m invalid syntax\n"
     ]
    }
   ],
   "source": [
    "''''''a=input (\"do you have  documents\")\n",
    "b=input (\"do you some cash: \")\n",
    "if a=='yes' or b=='yes':\n",
    "    print (\"go\")\n",
    "else:\n",
    "    print (\"wait\")"
   ]
  },
  {
   "cell_type": "markdown",
   "metadata": {},
   "source": [
    "# ASSIGNMENT (ATM Machine)"
   ]
  },
  {
   "cell_type": "code",
   "execution_count": 3,
   "metadata": {},
   "outputs": [
    {
     "name": "stdout",
     "output_type": "stream",
     "text": [
      "\t \" WELCOME \"\n",
      "Enter your pincode :987654321\n",
      "Your pincode is correct\n",
      "If you want to know your total amount press \"f\" or if you want to withdraw some amount press \"h\"\n",
      "What would you like to press \"f\" or \"h\"\n",
      "h\n",
      "How much amount you want to withdraw ?\n",
      "Withdraw amount = 12000\n",
      "Now your your remaining amount is 68000\n"
     ]
    }
   ],
   "source": [
    "print( '\\t \" WELCOME \"')\n",
    "total_amount=80000\n",
    "pin_code=int(input('Enter your pincode :'))\n",
    "if (pin_code==987654321):\n",
    "    print ('Your pincode is correct')\n",
    "    print ('If you want to know your total amount press \"f\" or if you want to withdraw some amount press \"h\"')\n",
    "    x=input('What would you like to press \"f\" or \"h\"\\n').lower()\n",
    "    if (x=='f'):\n",
    "        print(f'Your total amount is {total_amount}')\n",
    "    if (x=='h'):\n",
    "        print ('How much amount you want to withdraw ?')\n",
    "        draw_amount=int(input('Withdraw amount = '))\n",
    "        total_amount1=total_amount - draw_amount\n",
    "        print (f'Now your your remaining amount is {total_amount1}')\n",
    "else :\n",
    "    print ('Please enter correct pincode')\n",
    "    "
   ]
  },
  {
   "cell_type": "code",
   "execution_count": 3,
   "metadata": {},
   "outputs": [
    {
     "name": "stdout",
     "output_type": "stream",
     "text": [
      "\t \" WELCOME \"\n",
      "Enter your pincode :987654321\n",
      "Your pincode is correct\n",
      "If you want to know your total amount press \"f\" or if you want to withdraw some amount press \"h\"\n",
      "What would you like to press \"f\" or \"h\"\n",
      "f\n",
      "Your total amount is 80000\n"
     ]
    }
   ],
   "source": [
    "print( '\\t \" WELCOME \"')\n",
    "total_amount=80000\n",
    "pin_code=int(input('Enter your pincode :'))\n",
    "if (pin_code==987654321):\n",
    "    print ('Your pincode is correct')\n",
    "    print ('If you want to know your total amount press \"f\" or if you want to withdraw some amount press \"h\"')\n",
    "    x=input('What would you like to press \"f\" or \"h\"\\n').lower()\n",
    "    if (x=='f'):\n",
    "        print(f'Your total amount is {total_amount}')\n",
    "    if (x=='h'):\n",
    "        print ('How much amount you want to withdraw ?')\n",
    "        draw_amount=int(input('Withdraw amount = '))\n",
    "        total_amount1=total_amount - draw_amount\n",
    "        print (f'Now your your remaining amount is {total_amount1}')\n",
    "else :\n",
    "    print ('Please enter correct pincode')\n",
    "    "
   ]
  },
  {
   "cell_type": "code",
   "execution_count": 4,
   "metadata": {},
   "outputs": [
    {
     "name": "stdout",
     "output_type": "stream",
     "text": [
      "\t \" WELCOME \"\n",
      "Enter your pincode :123456987\n",
      "Please enter correct pincode\n"
     ]
    }
   ],
   "source": [
    "print( '\\t \" WELCOME \"')\n",
    "total_amount=80000\n",
    "pin_code=int(input('Enter your pincode :'))\n",
    "if (pin_code==987654321):\n",
    "    print ('Your pincode is correct')\n",
    "    print ('If you want to know your total amount press \"f\" or if you want to withdraw some amount press \"h\"')\n",
    "    x=input('What would you like to press \"f\" or \"h\"\\n').lower()\n",
    "    if (x=='f'):\n",
    "        print(f'Your total amount is {total_amount}')\n",
    "    if (x=='h'):\n",
    "        print ('How much amount you want to withdraw ?')\n",
    "        draw_amount=int(input('Withdraw amount = '))\n",
    "        total_amount1=total_amount - draw_amount\n",
    "        print (f'Now your your remaining amount is {total_amount1}')\n",
    "else :\n",
    "    print ('Please enter correct pincode')\n",
    "    "
   ]
  },
  {
   "cell_type": "markdown",
   "metadata": {},
   "source": [
    "# ASSIGNMENT (Bank Account)"
   ]
  },
  {
   "cell_type": "code",
   "execution_count": 7,
   "metadata": {},
   "outputs": [
    {
     "name": "stdout",
     "output_type": "stream",
     "text": [
      "\t \" WELCOME \"\n",
      "Enter your pincode :987654321\n",
      "Your pincode is correct\n",
      "If you want to know your total amount press \"f\"\n",
      "  or\n",
      "if you want to withdraw some amount press \"h\"\n",
      "  or\n",
      "if you want to deposit somme amount press \"j\"\n",
      "  \n",
      "What would you like to press \"f\" or \"h\" or \"j\"\n",
      "j\n",
      "How much amount you want to deposit ?\n",
      "Deposit amount = 35000\n",
      "\n",
      "Now your total amount after deposit is 115000\n"
     ]
    }
   ],
   "source": [
    "print( '\\t \" WELCOME \"')\n",
    "total_amount=80000\n",
    "pin_code=int(input('Enter your pincode :'))\n",
    "if (pin_code==987654321):\n",
    "    print ('Your pincode is correct')\n",
    "    print ('If you want to know your total amount press \"f\"\\n  or\\nif you want to withdraw some amount press \"h\"\\n  or\\nif you want to deposit somme amount press \"j\"\\n  ')\n",
    "    x=input('What would you like to press \"f\" or \"h\" or \"j\"\\n').lower()\n",
    "    if (x=='f'):\n",
    "        print(f'Your total amount is {total_amount}')\n",
    "    if (x=='h'):\n",
    "        print ('How much amount you want to withdraw ?')\n",
    "        draw_amount=int(input('Withdraw amount = '))\n",
    "        total_amount1=total_amount - draw_amount\n",
    "        print (f'Now your your remaining amount is {total_amount1}')\n",
    "    if (x=='j'):\n",
    "        print('How much amount you want to deposit ?')\n",
    "        dep_amount=int(input('Deposit amount = '))\n",
    "        total_amount2=total_amount + dep_amount\n",
    "        print (f'\\nNow your total amount after deposit is {total_amount2}')\n",
    "else :\n",
    "    print ('Please enter correct pincode')\n",
    "    "
   ]
  }
 ],
 "metadata": {
  "kernelspec": {
   "display_name": "Python 3",
   "language": "python",
   "name": "python3"
  },
  "language_info": {
   "codemirror_mode": {
    "name": "ipython",
    "version": 3
   },
   "file_extension": ".py",
   "mimetype": "text/x-python",
   "name": "python",
   "nbconvert_exporter": "python",
   "pygments_lexer": "ipython3",
   "version": "3.7.0"
  }
 },
 "nbformat": 4,
 "nbformat_minor": 2
}
